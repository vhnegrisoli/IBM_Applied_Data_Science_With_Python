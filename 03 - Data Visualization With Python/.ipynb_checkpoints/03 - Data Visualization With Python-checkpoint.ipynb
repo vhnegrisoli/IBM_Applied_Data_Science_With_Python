{
 "cells": [
  {
   "cell_type": "markdown",
   "metadata": {},
   "source": [
    "## Curso - Data Visualization With Python - IBM Cognitive Class"
   ]
  },
  {
   "cell_type": "markdown",
   "metadata": {},
   "source": [
    "#### Formação: Applied Data Science With Python"
   ]
  },
  {
   "cell_type": "markdown",
   "metadata": {},
   "source": [
    "#### Victor Hugo Negrisoli - Desenvolvedor de Software Full-Stack & Analista de Dados¶"
   ]
  },
  {
   "cell_type": "markdown",
   "metadata": {},
   "source": [
    "#### Módulo 1 - Introdução a ferramentas de visualização de dados em Python"
   ]
  },
  {
   "cell_type": "code",
   "execution_count": 7,
   "metadata": {},
   "outputs": [],
   "source": [
    "import pandas as pd\n",
    "import numpy as np\n",
    "import matplotlib.pyplot as plt\n",
    "import seaborn as sns\n",
    "from matplotlib.backends.backend_agg import FigureCanvasAgg as FigureCanvas\n",
    "from matplotlib.figure import Figure"
   ]
  },
  {
   "cell_type": "code",
   "execution_count": 18,
   "metadata": {},
   "outputs": [],
   "source": [
    "# Criando um gráfico de histograma utilizando a camada de Artista da Matplotlib\n",
    "# Na camada de artista, define-se o Canvas que será gerado e várias de suas configurações\n",
    "\n",
    "fig = Figure()\n",
    "canvas = FigureCanvas(fig)\n",
    "\n",
    "x = np.random.randn(10000)\n",
    "ax = fig.add_subplot(111)\n",
    "ax.hist(x, 100)\n",
    "ax.set_title(\"Distribuição Normal com $\\mu=0, \\sigma=1$ - Artist Layer\")\n",
    "fig.savefig(\"imagens/modulo_1/Teste Histograma - Artist Layer.png\")"
   ]
  },
  {
   "cell_type": "code",
   "execution_count": 19,
   "metadata": {},
   "outputs": [
    {
     "data": {
      "image/png": "[encoded data removed]",
      "text/plain": [
       "<Figure size 432x288 with 1 Axes>"
      ]
     },
     "metadata": {
      "needs_background": "light"
     },
     "output_type": "display_data"
    }
   ],
   "source": [
    "# Criando um gráfico de histograma utilizando a camada de Script da Matplotlib\n",
    "\n",
    "plt.hist(x, 100)\n",
    "plt.title(\"Distribuição Normal com $\\mu=0, \\sigma=1$ - Script Layer (pyplot)\")\n",
    "plt.savefig(\"imagens/modulo_1/Teste Histograma - Script Layer.png\")\n",
    "plt.show()"
   ]
  },
  {
   "cell_type": "code",
   "execution_count": null,
   "metadata": {},
   "outputs": [],
   "source": []
  }
 ],
 "metadata": {
  "kernelspec": {
   "display_name": "Python 3",
   "language": "python",
   "name": "python3"
  },
  "language_info": {
   "codemirror_mode": {
    "name": "ipython",
    "version": 3
   },
   "file_extension": ".py",
   "mimetype": "text/x-python",
   "name": "python",
   "nbconvert_exporter": "python",
   "pygments_lexer": "ipython3",
   "version": "3.7.4"
  }
 },
 "nbformat": 4,
 "nbformat_minor": 2
}
